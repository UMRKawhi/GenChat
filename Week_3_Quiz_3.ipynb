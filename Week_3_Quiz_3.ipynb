{
  "nbformat": 4,
  "nbformat_minor": 0,
  "metadata": {
    "colab": {
      "name": "Week 3 Quiz 3(2).ipynb",
      "provenance": [],
      "collapsed_sections": [],
      "toc_visible": true,
      "include_colab_link": true
    },
    "kernelspec": {
      "display_name": "Python 3",
      "language": "python",
      "name": "python3"
    },
    "language_info": {
      "codemirror_mode": {
        "name": "ipython",
        "version": 3
      },
      "file_extension": ".py",
      "mimetype": "text/x-python",
      "name": "python",
      "nbconvert_exporter": "python",
      "pygments_lexer": "ipython3",
      "version": "3.7.4"
    }
  },
  "cells": [
    {
      "cell_type": "markdown",
      "metadata": {
        "id": "view-in-github",
        "colab_type": "text"
      },
      "source": [
        "<a href=\"https://colab.research.google.com/github/UMRKawhi/GenChat/blob/master/Week_3_Quiz_3.ipynb\" target=\"_parent\"><img src=\"https://colab.research.google.com/assets/colab-badge.svg\" alt=\"Open In Colab\"/></a>"
      ]
    },
    {
      "cell_type": "markdown",
      "metadata": {
        "colab_type": "text",
        "id": "8e1WP8KvSfFj"
      },
      "source": [
        "![alt text](https://www.unsw.edu.au/sites/default/files/UNSW_0.png)\n",
        "\n",
        "# MARK5828 Week 3 Quiz3\n",
        "\n",
        "\n",
        "---"
      ]
    },
    {
      "cell_type": "code",
      "metadata": {
        "colab_type": "code",
        "id": "2iz62VKLJXcS",
        "colab": {
          "base_uri": "https://localhost:8080/",
          "height": 35
        },
        "outputId": "62e96e4e-7601-4841-b83b-5ff25d2c24da"
      },
      "source": [
        "from google.colab import drive\n",
        "drive.mount('/content/drive')"
      ],
      "execution_count": 1,
      "outputs": [
        {
          "output_type": "stream",
          "text": [
            "Drive already mounted at /content/drive; to attempt to forcibly remount, call drive.mount(\"/content/drive\", force_remount=True).\n"
          ],
          "name": "stdout"
        }
      ]
    },
    {
      "cell_type": "markdown",
      "metadata": {
        "colab_type": "text",
        "id": "DGaRzWc1SvQN"
      },
      "source": [
        "# Linear Regression with VIF on UNICEF Video data (4 marks)"
      ]
    },
    {
      "cell_type": "markdown",
      "metadata": {
        "colab_type": "text",
        "id": "tbd3EiCmlQ3-"
      },
      "source": [
        "In this question you are required to develop linear regression model with VIF analysis for **both** UNICEF videos published before 2013 and UNICEF videos published after 2013, as given by \"**videos_before_2013**\" and \"**videos_after_2013**\". Your job is to use what you learnt in week 3 tutorial about building linear regression model with VIF analysis, and replicate the process using \"**videos_before_2013**\" and \"**videos_after_2013**\". Please give your VIF value of the most significant x-variable (smallest p-value) in both cases. \n",
        "\n",
        "Please give an valid insight or conclusion about the UNICEF videos published before v.s after year 2013."
      ]
    },
    {
      "cell_type": "code",
      "metadata": {
        "colab_type": "code",
        "id": "2RmNOFe8kBJ3",
        "colab": {
          "base_uri": "https://localhost:8080/",
          "height": 53
        },
        "outputId": "98749218-b735-4e00-d849-c9326bcf5f70"
      },
      "source": [
        "# Run this cell to install required software. You may add any other software if you wish\n",
        "# Upload \"week2_helpers.py\"\n",
        "import statsmodels.api as sm\n",
        "import seaborn as sns; sns.set()\n",
        "import pandas as pd\n",
        "# import VIF function from week2_helpers.py\n",
        "from week2_helpers import variance_inflation_factor\n",
        "import warnings\n",
        "warnings.filterwarnings('ignore')"
      ],
      "execution_count": 2,
      "outputs": [
        {
          "output_type": "stream",
          "text": [
            "/usr/local/lib/python3.6/dist-packages/statsmodels/tools/_testing.py:19: FutureWarning: pandas.util.testing is deprecated. Use the functions in the public API at pandas.testing instead.\n",
            "  import pandas.util.testing as tm\n"
          ],
          "name": "stderr"
        }
      ]
    },
    {
      "cell_type": "code",
      "metadata": {
        "colab_type": "code",
        "id": "eEcPCjMcnVG5",
        "colab": {}
      },
      "source": [
        "\"\"\"YOU DO NOT NEED TO CHANGE THIS\"\"\"\n",
        "\n",
        "\n",
        "# Read the two CSV files\n",
        "df_youtube = pd.read_csv('unicef_youtube.csv')\n",
        "df_indexer = pd.read_csv('unicef_indexer.csv')\n",
        "\n",
        "# Merge the two CSV files together based on \"video IDs\" columns\n",
        "df_merge = df_youtube.merge(df_indexer, left_on = \"video_id\", right_on = \"id\")\n",
        "\n",
        "# Remove unnecessary columns\n",
        "df_merge = df_merge.drop(columns=[\"id\", \"video_id\", \"url\"], axis=1)\n",
        "\n",
        "# Drop Videos without \"likes\" information\n",
        "df_merge = df_merge.dropna(subset=[\"likes\"])"
      ],
      "execution_count": 3,
      "outputs": []
    },
    {
      "cell_type": "code",
      "metadata": {
        "colab_type": "code",
        "id": "ZKHUVcu-pkW0",
        "colab": {}
      },
      "source": [
        "\"\"\"YOU DO NO NEED TO CHANGE THIS\"\"\"\n",
        "\n",
        "# Get Videos before & after 2013. Note that .astype(int) converts the year from STRING to INTEGER.\n",
        "videos_before_2013 = df_merge[df_merge[\"date_published_year\"].astype(int) < 2013]\n",
        "videos_after_2013 = df_merge[df_merge[\"date_published_year\"].astype(int) >= 2013]\n"
      ],
      "execution_count": 4,
      "outputs": []
    },
    {
      "cell_type": "markdown",
      "metadata": {
        "colab_type": "text",
        "id": "YJFj_jMsI_cB"
      },
      "source": [
        "## Q1. Get Dummy Variables for Categorical Columns (0.5 mark)"
      ]
    },
    {
      "cell_type": "code",
      "metadata": {
        "colab_type": "code",
        "id": "l93zD1NOkQMp",
        "colab": {}
      },
      "source": [
        "category_columns = ['genre', 'indexer_source_language', 'date_published_year', 'date_published_month', 'date_published_day']\n",
        "new_video_before_2013 = pd.get_dummies(videos_before_2013, columns=category_columns, drop_first=True)\n",
        "new_video_after_2013 = pd.get_dummies(videos_after_2013, columns=category_columns, drop_first=True)"
      ],
      "execution_count": 5,
      "outputs": []
    },
    {
      "cell_type": "markdown",
      "metadata": {
        "colab_type": "text",
        "id": "KHfXZ3HbKEL4"
      },
      "source": [
        "## Q2. Perform Initial Regression (without VIF taken in consideration) (0.5 mark)"
      ]
    },
    {
      "cell_type": "code",
      "metadata": {
        "colab_type": "code",
        "id": "QeJXGX9aKwC_",
        "colab": {}
      },
      "source": [
        "# x1 & y1 for before_2013\n",
        "y1 = new_video_before_2013[\"likes\"]\n",
        "x1 = new_video_before_2013.drop(['likes'], axis=1).astype(float)\n",
        "x1 = sm.add_constant(x1)\n",
        "model1 = sm.OLS(y1, x1)\n",
        "results1 = model1.fit()\n",
        "# print(results1.summary())\n",
        "\n",
        "# x2 & y2 for after_2013\n",
        "y2 = new_video_after_2013['likes']\n",
        "x2 = new_video_after_2013.drop(['likes'], axis=1).astype(float)\n",
        "x2 = sm.add_constant(x2)\n",
        "model2 = sm.OLS(y2, x2)\n",
        "results2 = model2.fit()\n",
        "# print(results2.summary())"
      ],
      "execution_count": 6,
      "outputs": []
    },
    {
      "cell_type": "markdown",
      "metadata": {
        "colab_type": "text",
        "id": "zE6bhzWFKJOK"
      },
      "source": [
        "## Q3. Get VIF values for each column, and drop columns with their VIF > 5 (0.5 mark) "
      ]
    },
    {
      "cell_type": "code",
      "metadata": {
        "colab_type": "code",
        "id": "gv84BZA6KG2j",
        "colab": {}
      },
      "source": [
        "# vif1  & df_vif1 for before_2013\n",
        "vif1 = variance_inflation_factor(x1)\n",
        "df_vif1 = x1.loc[:, vif1['vif'] <= 5]\n",
        "\n",
        "# vif2 & df_vif2 for after_2013\n",
        "vif2 = variance_inflation_factor(x2)\n",
        "df_vif2 = x2.loc[:, vif2['vif'] <= 5]"
      ],
      "execution_count": 7,
      "outputs": []
    },
    {
      "cell_type": "markdown",
      "metadata": {
        "colab_type": "text",
        "id": "iCxl7iKxKODu"
      },
      "source": [
        "## Q4. Perform Regression again (with VIF taken in consideration) (0.5 mark)"
      ]
    },
    {
      "cell_type": "code",
      "metadata": {
        "colab_type": "code",
        "id": "GzvmXkk4KtN6",
        "colab": {}
      },
      "source": [
        "# x1 & y1 for before_2013\n",
        "y1 = new_video_before_2013[\"likes\"]\n",
        "x1 = sm.add_constant(df_vif1.astype(float))\n",
        "new_model1 = sm.OLS(y1, x1)\n",
        "new_results1 = new_model1.fit()\n",
        "# print(results1.summary())\n",
        "\n",
        "# x2 & y2 for after 2013\n",
        "y2 = new_video_after_2013['likes']\n",
        "x2 = sm.add_constant(df_vif2.astype(float))\n",
        "new_model2 = sm.OLS(y2, x2)\n",
        "new_results2 = new_model2.fit()\n",
        "# print(results2.summary())"
      ],
      "execution_count": 8,
      "outputs": []
    },
    {
      "cell_type": "markdown",
      "metadata": {
        "colab_type": "text",
        "id": "Gig1CsdDLhwj"
      },
      "source": [
        "# Q5. Please compare the number of significant variables in (1) your initail regression result before any VIF iteration with (2) your final regression result after you finish all VIF iteratio in both cases. Please note that significance level is 0.05. /(1 mark)"
      ]
    },
    {
      "cell_type": "markdown",
      "metadata": {
        "colab_type": "text",
        "id": "OhMirxZ_MMTE"
      },
      "source": [
        "Case 1: Before 2013: The top 5 significant variables are: indexer_sentiment_negative, indexer_duration, indexer_ocr_unicef.org, indexer_ocr_unicef@television, indexer_sentiment_neutral.\n",
        "Their coef are 0.00. After applied the VIF iteration, indexer_ocr_unicef.org,\n",
        "indexer_ocr_unicef@television\tare still at 0.00. However, the p values of indexer_sentiment_negative, indexer_duration, indexer_sentiment_neutral changed to NaN. This means that these variables have been removed."
      ]
    },
    {
      "cell_type": "code",
      "metadata": {
        "id": "x_U7OmrSZgTJ",
        "colab_type": "code",
        "colab": {}
      },
      "source": [
        "# Scientific notation forbidden\n",
        "pd.set_option('display.float_format',lambda x : '%.2f' % x)\n",
        "\n",
        "# I select the top 5 significant varibales for initial regression\n",
        "results_as_html = results1.summary().tables[1].as_html()\n",
        "initial_summary1 = pd.read_html(results_as_html, header=0, index_col=0)[0]\n",
        "initial_summary1['P>|t|'] = initial_summary1['P>|t|'].astype('float')\n",
        "initial_summary1 = initial_summary1.sort_values(by=['P>|t|'], ascending=True)\n",
        "significant_variable = list(initial_summary1.head(6).index)\n",
        "significant_variable = significant_variable[1:]\n",
        "\n",
        "# find the top 5 significant variable after using VIF\n",
        "results_as_html = new_results1.summary().tables[1].as_html()\n",
        "final_summary1 = pd.read_html(results_as_html, header=0, index_col=0)[0]\n",
        "final_summary1['P>|t|'] = final_summary1['P>|t|'].astype('float')\n",
        "final_summary1 = final_summary1.reindex(significant_variable)"
      ],
      "execution_count": 9,
      "outputs": []
    },
    {
      "cell_type": "code",
      "metadata": {
        "id": "WcjE1o_LZgTL",
        "colab_type": "code",
        "colab": {
          "base_uri": "https://localhost:8080/",
          "height": 222
        },
        "outputId": "bf923833-20d9-4f98-b6c9-f6c6a11d36da"
      },
      "source": [
        "# print the result of initial regression\n",
        "print(significant_variable)\n",
        "initial_summary1.iloc[1:6]"
      ],
      "execution_count": 10,
      "outputs": [
        {
          "output_type": "stream",
          "text": [
            "['indexer_sentiment_negative', 'indexer_duration', 'indexer_ocr_unicef.org', 'indexer_ocr_unicef@television', 'indexer_sentiment_neutral']\n"
          ],
          "name": "stdout"
        },
        {
          "output_type": "execute_result",
          "data": {
            "text/html": [
              "<div>\n",
              "<style scoped>\n",
              "    .dataframe tbody tr th:only-of-type {\n",
              "        vertical-align: middle;\n",
              "    }\n",
              "\n",
              "    .dataframe tbody tr th {\n",
              "        vertical-align: top;\n",
              "    }\n",
              "\n",
              "    .dataframe thead th {\n",
              "        text-align: right;\n",
              "    }\n",
              "</style>\n",
              "<table border=\"1\" class=\"dataframe\">\n",
              "  <thead>\n",
              "    <tr style=\"text-align: right;\">\n",
              "      <th></th>\n",
              "      <th>coef</th>\n",
              "      <th>std err</th>\n",
              "      <th>t</th>\n",
              "      <th>P&gt;|t|</th>\n",
              "      <th>[0.025</th>\n",
              "      <th>0.975]</th>\n",
              "    </tr>\n",
              "  </thead>\n",
              "  <tbody>\n",
              "    <tr>\n",
              "      <th>indexer_sentiment_negative</th>\n",
              "      <td>-0.98</td>\n",
              "      <td>0.18</td>\n",
              "      <td>-5.38</td>\n",
              "      <td>0.00</td>\n",
              "      <td>-1.33</td>\n",
              "      <td>-0.62</td>\n",
              "    </tr>\n",
              "    <tr>\n",
              "      <th>indexer_duration</th>\n",
              "      <td>0.88</td>\n",
              "      <td>0.10</td>\n",
              "      <td>9.16</td>\n",
              "      <td>0.00</td>\n",
              "      <td>0.69</td>\n",
              "      <td>1.07</td>\n",
              "    </tr>\n",
              "    <tr>\n",
              "      <th>indexer_ocr_unicef.org</th>\n",
              "      <td>1.55</td>\n",
              "      <td>0.38</td>\n",
              "      <td>4.13</td>\n",
              "      <td>0.00</td>\n",
              "      <td>0.81</td>\n",
              "      <td>2.29</td>\n",
              "    </tr>\n",
              "    <tr>\n",
              "      <th>indexer_ocr_unicef@television</th>\n",
              "      <td>3.36</td>\n",
              "      <td>0.45</td>\n",
              "      <td>7.53</td>\n",
              "      <td>0.00</td>\n",
              "      <td>2.49</td>\n",
              "      <td>4.24</td>\n",
              "    </tr>\n",
              "    <tr>\n",
              "      <th>indexer_sentiment_neutral</th>\n",
              "      <td>-0.86</td>\n",
              "      <td>0.09</td>\n",
              "      <td>-9.21</td>\n",
              "      <td>0.00</td>\n",
              "      <td>-1.04</td>\n",
              "      <td>-0.68</td>\n",
              "    </tr>\n",
              "  </tbody>\n",
              "</table>\n",
              "</div>"
            ],
            "text/plain": [
              "                               coef  std err     t  P>|t|  [0.025  0.975]\n",
              "indexer_sentiment_negative    -0.98     0.18 -5.38   0.00   -1.33   -0.62\n",
              "indexer_duration               0.88     0.10  9.16   0.00    0.69    1.07\n",
              "indexer_ocr_unicef.org         1.55     0.38  4.13   0.00    0.81    2.29\n",
              "indexer_ocr_unicef@television  3.36     0.45  7.53   0.00    2.49    4.24\n",
              "indexer_sentiment_neutral     -0.86     0.09 -9.21   0.00   -1.04   -0.68"
            ]
          },
          "metadata": {
            "tags": []
          },
          "execution_count": 10
        }
      ]
    },
    {
      "cell_type": "code",
      "metadata": {
        "id": "vTeJSx1oZgTO",
        "colab_type": "code",
        "colab": {
          "base_uri": "https://localhost:8080/",
          "height": 204
        },
        "outputId": "9e822b89-21d1-4446-8cdb-a810985f6b84"
      },
      "source": [
        "# print the result and the p values after VIF\n",
        "final_summary1"
      ],
      "execution_count": 11,
      "outputs": [
        {
          "output_type": "execute_result",
          "data": {
            "text/html": [
              "<div>\n",
              "<style scoped>\n",
              "    .dataframe tbody tr th:only-of-type {\n",
              "        vertical-align: middle;\n",
              "    }\n",
              "\n",
              "    .dataframe tbody tr th {\n",
              "        vertical-align: top;\n",
              "    }\n",
              "\n",
              "    .dataframe thead th {\n",
              "        text-align: right;\n",
              "    }\n",
              "</style>\n",
              "<table border=\"1\" class=\"dataframe\">\n",
              "  <thead>\n",
              "    <tr style=\"text-align: right;\">\n",
              "      <th></th>\n",
              "      <th>coef</th>\n",
              "      <th>std err</th>\n",
              "      <th>t</th>\n",
              "      <th>P&gt;|t|</th>\n",
              "      <th>[0.025</th>\n",
              "      <th>0.975]</th>\n",
              "    </tr>\n",
              "  </thead>\n",
              "  <tbody>\n",
              "    <tr>\n",
              "      <th>indexer_sentiment_negative</th>\n",
              "      <td>nan</td>\n",
              "      <td>nan</td>\n",
              "      <td>nan</td>\n",
              "      <td>nan</td>\n",
              "      <td>nan</td>\n",
              "      <td>nan</td>\n",
              "    </tr>\n",
              "    <tr>\n",
              "      <th>indexer_duration</th>\n",
              "      <td>nan</td>\n",
              "      <td>nan</td>\n",
              "      <td>nan</td>\n",
              "      <td>nan</td>\n",
              "      <td>nan</td>\n",
              "      <td>nan</td>\n",
              "    </tr>\n",
              "    <tr>\n",
              "      <th>indexer_ocr_unicef.org</th>\n",
              "      <td>1.62</td>\n",
              "      <td>0.38</td>\n",
              "      <td>4.27</td>\n",
              "      <td>0.00</td>\n",
              "      <td>0.88</td>\n",
              "      <td>2.37</td>\n",
              "    </tr>\n",
              "    <tr>\n",
              "      <th>indexer_ocr_unicef@television</th>\n",
              "      <td>3.56</td>\n",
              "      <td>0.45</td>\n",
              "      <td>7.89</td>\n",
              "      <td>0.00</td>\n",
              "      <td>2.67</td>\n",
              "      <td>4.44</td>\n",
              "    </tr>\n",
              "    <tr>\n",
              "      <th>indexer_sentiment_neutral</th>\n",
              "      <td>nan</td>\n",
              "      <td>nan</td>\n",
              "      <td>nan</td>\n",
              "      <td>nan</td>\n",
              "      <td>nan</td>\n",
              "      <td>nan</td>\n",
              "    </tr>\n",
              "  </tbody>\n",
              "</table>\n",
              "</div>"
            ],
            "text/plain": [
              "                               coef  std err    t  P>|t|  [0.025  0.975]\n",
              "indexer_sentiment_negative      nan      nan  nan    nan     nan     nan\n",
              "indexer_duration                nan      nan  nan    nan     nan     nan\n",
              "indexer_ocr_unicef.org         1.62     0.38 4.27   0.00    0.88    2.37\n",
              "indexer_ocr_unicef@television  3.56     0.45 7.89   0.00    2.67    4.44\n",
              "indexer_sentiment_neutral       nan      nan  nan    nan     nan     nan"
            ]
          },
          "metadata": {
            "tags": []
          },
          "execution_count": 11
        }
      ]
    },
    {
      "cell_type": "markdown",
      "metadata": {
        "id": "tJ7VbazmZgTQ",
        "colab_type": "raw"
      },
      "source": [
        "Case 2: After 2013: The top 5 significant variables are: tags_poverty, indexer_labels_person, indexer_topics_business, tags_celebrity, indexer_topics_social_work.Their coef are 0.00. After applied the VIF iteration, tags_poverty, indexer_topics_business, tags_celebrity, indexer_topics_social_work are still at 0.00. However, the p values of indexer_labels_person changed to NaN. This means that these variables have been removed."
      ]
    },
    {
      "cell_type": "code",
      "metadata": {
        "id": "9ieFQoo6ZgTQ",
        "colab_type": "code",
        "colab": {}
      },
      "source": [
        "# I select the top 5 significant varibales for initial regression\n",
        "results_as_html = results2.summary().tables[1].as_html()\n",
        "initial_summary2 = pd.read_html(results_as_html, header=0, index_col=0)[0]\n",
        "initial_summary2['P>|t|'] = initial_summary2['P>|t|'].astype('float')\n",
        "initial_summary2 = initial_summary2.sort_values(by=['P>|t|'], ascending=True)\n",
        "significant_variable = list(initial_summary2.head(6).index)\n",
        "significant_variable = significant_variable[1:]\n",
        "\n",
        "# find the top 5 significant variable after using VIF\n",
        "results_as_html = new_results2.summary().tables[1].as_html()\n",
        "final_summary2 = pd.read_html(results_as_html, header=0, index_col=0)[0]\n",
        "final_summary2['P>|t|'] = final_summary2['P>|t|'].astype('float')\n",
        "final_summary2 = final_summary2.reindex(significant_variable)"
      ],
      "execution_count": 12,
      "outputs": []
    },
    {
      "cell_type": "code",
      "metadata": {
        "id": "EelJmUo2ZgTS",
        "colab_type": "code",
        "colab": {
          "base_uri": "https://localhost:8080/",
          "height": 222
        },
        "outputId": "f7347e6e-b498-4fc6-b73f-0db70b896395"
      },
      "source": [
        "# print the result of initial regression\n",
        "print(significant_variable)\n",
        "initial_summary2.iloc[1:6]"
      ],
      "execution_count": 13,
      "outputs": [
        {
          "output_type": "stream",
          "text": [
            "['tags_poverty', 'indexer_labels_person', 'indexer_topics_business', 'tags_celebrity', 'indexer_topics_social_work']\n"
          ],
          "name": "stdout"
        },
        {
          "output_type": "execute_result",
          "data": {
            "text/html": [
              "<div>\n",
              "<style scoped>\n",
              "    .dataframe tbody tr th:only-of-type {\n",
              "        vertical-align: middle;\n",
              "    }\n",
              "\n",
              "    .dataframe tbody tr th {\n",
              "        vertical-align: top;\n",
              "    }\n",
              "\n",
              "    .dataframe thead th {\n",
              "        text-align: right;\n",
              "    }\n",
              "</style>\n",
              "<table border=\"1\" class=\"dataframe\">\n",
              "  <thead>\n",
              "    <tr style=\"text-align: right;\">\n",
              "      <th></th>\n",
              "      <th>coef</th>\n",
              "      <th>std err</th>\n",
              "      <th>t</th>\n",
              "      <th>P&gt;|t|</th>\n",
              "      <th>[0.025</th>\n",
              "      <th>0.975]</th>\n",
              "    </tr>\n",
              "  </thead>\n",
              "  <tbody>\n",
              "    <tr>\n",
              "      <th>tags_poverty</th>\n",
              "      <td>832.35</td>\n",
              "      <td>217.98</td>\n",
              "      <td>3.82</td>\n",
              "      <td>0.00</td>\n",
              "      <td>404.17</td>\n",
              "      <td>1260.53</td>\n",
              "    </tr>\n",
              "    <tr>\n",
              "      <th>indexer_labels_person</th>\n",
              "      <td>5.29</td>\n",
              "      <td>1.66</td>\n",
              "      <td>3.20</td>\n",
              "      <td>0.00</td>\n",
              "      <td>2.04</td>\n",
              "      <td>8.54</td>\n",
              "    </tr>\n",
              "    <tr>\n",
              "      <th>indexer_topics_business</th>\n",
              "      <td>5.31</td>\n",
              "      <td>1.55</td>\n",
              "      <td>3.42</td>\n",
              "      <td>0.00</td>\n",
              "      <td>2.26</td>\n",
              "      <td>8.35</td>\n",
              "    </tr>\n",
              "    <tr>\n",
              "      <th>tags_celebrity</th>\n",
              "      <td>618.29</td>\n",
              "      <td>208.52</td>\n",
              "      <td>2.96</td>\n",
              "      <td>0.00</td>\n",
              "      <td>208.71</td>\n",
              "      <td>1027.88</td>\n",
              "    </tr>\n",
              "    <tr>\n",
              "      <th>indexer_topics_social_work</th>\n",
              "      <td>11.02</td>\n",
              "      <td>3.81</td>\n",
              "      <td>2.89</td>\n",
              "      <td>0.00</td>\n",
              "      <td>3.53</td>\n",
              "      <td>18.51</td>\n",
              "    </tr>\n",
              "  </tbody>\n",
              "</table>\n",
              "</div>"
            ],
            "text/plain": [
              "                             coef  std err    t  P>|t|  [0.025  0.975]\n",
              "tags_poverty               832.35   217.98 3.82   0.00  404.17 1260.53\n",
              "indexer_labels_person        5.29     1.66 3.20   0.00    2.04    8.54\n",
              "indexer_topics_business      5.31     1.55 3.42   0.00    2.26    8.35\n",
              "tags_celebrity             618.29   208.52 2.96   0.00  208.71 1027.88\n",
              "indexer_topics_social_work  11.02     3.81 2.89   0.00    3.53   18.51"
            ]
          },
          "metadata": {
            "tags": []
          },
          "execution_count": 13
        }
      ]
    },
    {
      "cell_type": "code",
      "metadata": {
        "id": "YBXPQUk_ZgTT",
        "colab_type": "code",
        "colab": {
          "base_uri": "https://localhost:8080/",
          "height": 204
        },
        "outputId": "ccca15c6-328e-482f-8157-617bc3b13818"
      },
      "source": [
        "final_summary2"
      ],
      "execution_count": 14,
      "outputs": [
        {
          "output_type": "execute_result",
          "data": {
            "text/html": [
              "<div>\n",
              "<style scoped>\n",
              "    .dataframe tbody tr th:only-of-type {\n",
              "        vertical-align: middle;\n",
              "    }\n",
              "\n",
              "    .dataframe tbody tr th {\n",
              "        vertical-align: top;\n",
              "    }\n",
              "\n",
              "    .dataframe thead th {\n",
              "        text-align: right;\n",
              "    }\n",
              "</style>\n",
              "<table border=\"1\" class=\"dataframe\">\n",
              "  <thead>\n",
              "    <tr style=\"text-align: right;\">\n",
              "      <th></th>\n",
              "      <th>coef</th>\n",
              "      <th>std err</th>\n",
              "      <th>t</th>\n",
              "      <th>P&gt;|t|</th>\n",
              "      <th>[0.025</th>\n",
              "      <th>0.975]</th>\n",
              "    </tr>\n",
              "  </thead>\n",
              "  <tbody>\n",
              "    <tr>\n",
              "      <th>tags_poverty</th>\n",
              "      <td>nan</td>\n",
              "      <td>nan</td>\n",
              "      <td>nan</td>\n",
              "      <td>nan</td>\n",
              "      <td>nan</td>\n",
              "      <td>nan</td>\n",
              "    </tr>\n",
              "    <tr>\n",
              "      <th>indexer_labels_person</th>\n",
              "      <td>nan</td>\n",
              "      <td>nan</td>\n",
              "      <td>nan</td>\n",
              "      <td>nan</td>\n",
              "      <td>nan</td>\n",
              "      <td>nan</td>\n",
              "    </tr>\n",
              "    <tr>\n",
              "      <th>indexer_topics_business</th>\n",
              "      <td>5.32</td>\n",
              "      <td>1.28</td>\n",
              "      <td>4.17</td>\n",
              "      <td>0.00</td>\n",
              "      <td>2.82</td>\n",
              "      <td>7.83</td>\n",
              "    </tr>\n",
              "    <tr>\n",
              "      <th>tags_celebrity</th>\n",
              "      <td>nan</td>\n",
              "      <td>nan</td>\n",
              "      <td>nan</td>\n",
              "      <td>nan</td>\n",
              "      <td>nan</td>\n",
              "      <td>nan</td>\n",
              "    </tr>\n",
              "    <tr>\n",
              "      <th>indexer_topics_social_work</th>\n",
              "      <td>11.14</td>\n",
              "      <td>2.98</td>\n",
              "      <td>3.74</td>\n",
              "      <td>0.00</td>\n",
              "      <td>5.29</td>\n",
              "      <td>16.99</td>\n",
              "    </tr>\n",
              "  </tbody>\n",
              "</table>\n",
              "</div>"
            ],
            "text/plain": [
              "                            coef  std err    t  P>|t|  [0.025  0.975]\n",
              "tags_poverty                 nan      nan  nan    nan     nan     nan\n",
              "indexer_labels_person        nan      nan  nan    nan     nan     nan\n",
              "indexer_topics_business     5.32     1.28 4.17   0.00    2.82    7.83\n",
              "tags_celebrity               nan      nan  nan    nan     nan     nan\n",
              "indexer_topics_social_work 11.14     2.98 3.74   0.00    5.29   16.99"
            ]
          },
          "metadata": {
            "tags": []
          },
          "execution_count": 14
        }
      ]
    },
    {
      "cell_type": "markdown",
      "metadata": {
        "colab_type": "text",
        "id": "J68umBdmLvTB"
      },
      "source": [
        "#Q6. Please give an valid insight or conclusion about the UNICEF videos published before v.s after year 2013. /(1 mark)"
      ]
    },
    {
      "cell_type": "markdown",
      "metadata": {
        "id": "i5hcYKutZgTV",
        "colab_type": "raw"
      },
      "source": [
        "By filtering the data, we can observe that the most popular title entitie before 2013 is the football superstar David Backham, and after 2013, the most popular brand is the FC Barcelona. Therefore, we can conclude that when the UNICEF video relates to the topic of football, everyone will be more willing to watch the UNICEF video. However, when the video involves some serious topics, such as family, children, business and refugee issues, the video will lose its appeal."
      ]
    },
    {
      "cell_type": "code",
      "metadata": {
        "id": "mc1QQ3oOe6Rd",
        "colab_type": "code",
        "colab": {}
      },
      "source": [
        "# x1 & y1 for before_2013\n",
        "y1 = new_video_before_2013[\"likes\"]\n",
        "x1 = sm.add_constant(df_vif1.astype(float))\n",
        "new_model1 = sm.OLS(y1, x1)\n",
        "new_results1 = new_model1.fit()\n",
        "# print(results1.summary())\n",
        "\n",
        "# x2 & y2 for after 2013\n",
        "y2 = new_video_after_2013['likes']\n",
        "x2 = sm.add_constant(df_vif2.astype(float))\n",
        "new_model2 = sm.OLS(y2, x2)\n",
        "new_results2 = new_model2.fit()\n",
        "# print(results2.summary())\n",
        "\n",
        "results_as_html = new_results1.summary().tables[1].as_html()\n",
        "final_summary1 = pd.read_html(results_as_html, header=0, index_col=0)[0]\n",
        "final_summary1['P>|t|'] = final_summary1['P>|t|'].astype('float')\n",
        "\n",
        "results_as_html = new_results2.summary().tables[1].as_html()\n",
        "final_summary2 = pd.read_html(results_as_html, header=0, index_col=0)[0]\n",
        "final_summary2['P>|t|'] = final_summary2['P>|t|'].astype('float')\n",
        "\n",
        "# only consider the result which using VIF iteratio\n",
        "before_2013 = final_summary1.copy()\n",
        "after_2013 = final_summary2.copy()\n",
        "before_2013 = before_2013[before_2013['P>|t|'] <= 0.05]\n",
        "after_2013 = after_2013[after_2013['P>|t|'] <= 0.05]\n",
        "\n",
        "# only select two columns: coef and P>|t|\n",
        "before_2013 = before_2013[['coef', 'P>|t|']]\n",
        "after_2013 = after_2013[['coef', 'P>|t|']]"
      ],
      "execution_count": 15,
      "outputs": []
    },
    {
      "cell_type": "code",
      "metadata": {
        "id": "4V_HnwiIZgTW",
        "colab_type": "code",
        "colab": {
          "base_uri": "https://localhost:8080/",
          "height": 53
        },
        "outputId": "bac0c194-8855-498b-a2ef-80ab78fe4621"
      },
      "source": [
        "# sort values by using coef, print the first 5 rows and last 5 rows\n",
        "before_2013 = before_2013.sort_values(by='coef', ascending=False)\n",
        "print(list(before_2013.head().index))\n",
        "print(list(before_2013.tail().index))"
      ],
      "execution_count": 16,
      "outputs": [
        {
          "output_type": "stream",
          "text": [
            "['const', 'title_entities_david_beckham', 'tags_fund', 'description_entities_second', 'tags_poverty']\n",
            "['tags_childrens', 'description_entities_anja_baron', 'description_entities_thomas_nybo', 'title_entities_haiti', 'is_family_friendly']\n"
          ],
          "name": "stdout"
        }
      ]
    },
    {
      "cell_type": "code",
      "metadata": {
        "id": "kLHP-hJAZgTY",
        "colab_type": "code",
        "colab": {
          "base_uri": "https://localhost:8080/",
          "height": 53
        },
        "outputId": "d773e494-cce4-4525-8bdd-073fa45b7c2a"
      },
      "source": [
        "# sort values by using coef, print the first 5 rows and last 5 rows\n",
        "after_2013 = after_2013.sort_values(by='coef', ascending=False)\n",
        "print(list(after_2013.head().index))\n",
        "print(list(after_2013.tail().index))"
      ],
      "execution_count": 17,
      "outputs": [
        {
          "output_type": "stream",
          "text": [
            "['indexer_brands_fc_barcelona', 'indexer_brands_youtube', 'title_length', 'indexer_num_faces', 'indexer_topics_social_work']\n",
            "['indexer_topics_social_work', 'indexer_labels_ground', 'indexer_topics_business', 'indexer_topics_dating_and_relationships', 'indexer_topics_non_governmental_organizations_ngos']\n"
          ],
          "name": "stdout"
        }
      ]
    },
    {
      "cell_type": "code",
      "metadata": {
        "id": "KaFMLUvVZgTa",
        "colab_type": "code",
        "colab": {}
      },
      "source": [
        ""
      ],
      "execution_count": 17,
      "outputs": []
    }
  ]
}